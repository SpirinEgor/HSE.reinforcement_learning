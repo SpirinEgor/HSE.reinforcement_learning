{
  "nbformat": 4,
  "nbformat_minor": 0,
  "metadata": {
    "kernelspec": {
      "display_name": "Python 3",
      "language": "python",
      "name": "python3"
    },
    "language_info": {
      "codemirror_mode": {
        "name": "ipython",
        "version": 2
      },
      "file_extension": ".py",
      "mimetype": "text/x-python",
      "name": "python",
      "nbconvert_exporter": "python",
      "pygments_lexer": "ipython2",
      "version": "2.7.6"
    },
    "colab": {
      "name": "colab_training.ipynb",
      "provenance": []
    },
    "accelerator": "GPU"
  },
  "cells": [
    {
      "cell_type": "code",
      "metadata": {
        "id": "VYJwoY-z_vf-"
      },
      "source": [
        "!nvidia-smi"
      ],
      "execution_count": null,
      "outputs": []
    },
    {
      "cell_type": "code",
      "metadata": {
        "id": "ijSrfLaZBfVL"
      },
      "source": [
        "!pip install -q pybullet"
      ],
      "execution_count": null,
      "outputs": []
    },
    {
      "cell_type": "code",
      "metadata": {
        "id": "BRZU-nOO_8yw"
      },
      "source": [
        "!git clone https://github.com/SpirinEgor/HSE.reinforcement_learning"
      ],
      "execution_count": null,
      "outputs": []
    },
    {
      "cell_type": "code",
      "metadata": {
        "id": "SqorudX2BqUf"
      },
      "source": [
        "%cd HSE.reinforcement_learning/hw03_walker2d"
      ],
      "execution_count": null,
      "outputs": []
    },
    {
      "cell_type": "code",
      "metadata": {
        "id": "YThhm1frAvtB"
      },
      "source": [
        "!git pull"
      ],
      "execution_count": null,
      "outputs": []
    },
    {
      "cell_type": "code",
      "metadata": {
        "collapsed": true,
        "id": "7LKLmu6N_K0Z",
        "pycharm": {
          "name": "#%%\n"
        }
      },
      "source": [
        "from config import Config\n",
        "from train import Trainer"
      ],
      "execution_count": null,
      "outputs": []
    },
    {
      "cell_type": "code",
      "metadata": {
        "id": "PVZ3WJYFOx70"
      },
      "source": [
        "config = Config(\n",
        "    actor_hidden_dim=256,\n",
        "    actor_hidden_layers=1,\n",
        "    critic_hidden_dim=256,\n",
        "    critic_hidden_layers=1\n",
        ")"
      ],
      "execution_count": null,
      "outputs": []
    },
    {
      "cell_type": "code",
      "metadata": {
        "id": "Qe_idnlsPMM2"
      },
      "source": [
        "trainer = Trainer(config)\n",
        "trainer.train()"
      ],
      "execution_count": null,
      "outputs": []
    }
  ]
}