{
 "nbformat": 4,
 "nbformat_minor": 0,
 "metadata": {
  "kernelspec": {
   "display_name": "Python 3",
   "language": "python",
   "name": "python3"
  },
  "language_info": {
   "codemirror_mode": {
    "name": "ipython",
    "version": 2
   },
   "file_extension": ".py",
   "mimetype": "text/x-python",
   "name": "python",
   "nbconvert_exporter": "python",
   "pygments_lexer": "ipython2",
   "version": "2.7.6"
  },
  "colab": {
   "name": "colab_training.ipynb",
   "provenance": []
  },
  "accelerator": "GPU"
 },
 "cells": [
  {
   "cell_type": "code",
   "metadata": {
    "colab": {
     "base_uri": "https://localhost:8080/"
    },
    "id": "VYJwoY-z_vf-",
    "outputId": "66e472bb-399d-4c73-a720-6e90560c3323"
   },
   "source": [
    "!nvidia-smi"
   ],
   "execution_count": 1,
   "outputs": [
    {
     "output_type": "stream",
     "text": [
      "Mon Feb 22 17:41:27 2021       \n",
      "+-----------------------------------------------------------------------------+\n",
      "| NVIDIA-SMI 460.39       Driver Version: 460.32.03    CUDA Version: 11.2     |\n",
      "|-------------------------------+----------------------+----------------------+\n",
      "| GPU  Name        Persistence-M| Bus-Id        Disp.A | Volatile Uncorr. ECC |\n",
      "| Fan  Temp  Perf  Pwr:Usage/Cap|         Memory-Usage | GPU-Util  Compute M. |\n",
      "|                               |                      |               MIG M. |\n",
      "|===============================+======================+======================|\n",
      "|   0  Tesla P100-PCIE...  Off  | 00000000:00:04.0 Off |                    0 |\n",
      "| N/A   35C    P0    27W / 250W |      0MiB / 16280MiB |      0%      Default |\n",
      "|                               |                      |                  N/A |\n",
      "+-------------------------------+----------------------+----------------------+\n",
      "                                                                               \n",
      "+-----------------------------------------------------------------------------+\n",
      "| Processes:                                                                  |\n",
      "|  GPU   GI   CI        PID   Type   Process name                  GPU Memory |\n",
      "|        ID   ID                                                   Usage      |\n",
      "|=============================================================================|\n",
      "|  No running processes found                                                 |\n",
      "+-----------------------------------------------------------------------------+\n"
     ],
     "name": "stdout"
    }
   ]
  },
  {
   "cell_type": "code",
   "metadata": {
    "colab": {
     "base_uri": "https://localhost:8080/"
    },
    "id": "ijSrfLaZBfVL",
    "outputId": "7c40bd05-2313-4fcf-c71d-2eac3a41c9dc"
   },
   "source": [
    "!pip install -q pybullet"
   ],
   "execution_count": 2,
   "outputs": [
    {
     "output_type": "stream",
     "text": [
      "\u001B[?25l\r\u001B[K     |▊                               | 10kB 27.0MB/s eta 0:00:01\r\u001B[K     |█▌                              | 20kB 15.9MB/s eta 0:00:01\r\u001B[K     |██▏                             | 30kB 13.7MB/s eta 0:00:01\r\u001B[K     |███                             | 40kB 12.8MB/s eta 0:00:01\r\u001B[K     |███▋                            | 51kB 8.9MB/s eta 0:00:01\r\u001B[K     |████▍                           | 61kB 8.1MB/s eta 0:00:01\r\u001B[K     |█████▏                          | 71kB 9.2MB/s eta 0:00:01\r\u001B[K     |█████▉                          | 81kB 10.2MB/s eta 0:00:01\r\u001B[K     |██████▋                         | 92kB 9.7MB/s eta 0:00:01\r\u001B[K     |███████▎                        | 102kB 8.6MB/s eta 0:00:01\r\u001B[K     |████████                        | 112kB 8.6MB/s eta 0:00:01\r\u001B[K     |████████▊                       | 122kB 8.6MB/s eta 0:00:01\r\u001B[K     |█████████▌                      | 133kB 8.6MB/s eta 0:00:01\r\u001B[K     |██████████▎                     | 143kB 8.6MB/s eta 0:00:01\r\u001B[K     |███████████                     | 153kB 8.6MB/s eta 0:00:01\r\u001B[K     |███████████▊                    | 163kB 8.6MB/s eta 0:00:01\r\u001B[K     |████████████▍                   | 174kB 8.6MB/s eta 0:00:01\r\u001B[K     |█████████████▏                  | 184kB 8.6MB/s eta 0:00:01\r\u001B[K     |█████████████▉                  | 194kB 8.6MB/s eta 0:00:01\r\u001B[K     |██████████████▋                 | 204kB 8.6MB/s eta 0:00:01\r\u001B[K     |███████████████▍                | 215kB 8.6MB/s eta 0:00:01\r\u001B[K     |████████████████                | 225kB 8.6MB/s eta 0:00:01\r\u001B[K     |████████████████▉               | 235kB 8.6MB/s eta 0:00:01\r\u001B[K     |█████████████████▌              | 245kB 8.6MB/s eta 0:00:01\r\u001B[K     |██████████████████▎             | 256kB 8.6MB/s eta 0:00:01\r\u001B[K     |███████████████████             | 266kB 8.6MB/s eta 0:00:01\r\u001B[K     |███████████████████▊            | 276kB 8.6MB/s eta 0:00:01\r\u001B[K     |████████████████████▌           | 286kB 8.6MB/s eta 0:00:01\r\u001B[K     |█████████████████████▏          | 296kB 8.6MB/s eta 0:00:01\r\u001B[K     |██████████████████████          | 307kB 8.6MB/s eta 0:00:01\r\u001B[K     |██████████████████████▋         | 317kB 8.6MB/s eta 0:00:01\r\u001B[K     |███████████████████████▍        | 327kB 8.6MB/s eta 0:00:01\r\u001B[K     |████████████████████████        | 337kB 8.6MB/s eta 0:00:01\r\u001B[K     |████████████████████████▉       | 348kB 8.6MB/s eta 0:00:01\r\u001B[K     |█████████████████████████▋      | 358kB 8.6MB/s eta 0:00:01\r\u001B[K     |██████████████████████████▎     | 368kB 8.6MB/s eta 0:00:01\r\u001B[K     |███████████████████████████     | 378kB 8.6MB/s eta 0:00:01\r\u001B[K     |███████████████████████████▊    | 389kB 8.6MB/s eta 0:00:01\r\u001B[K     |████████████████████████████▌   | 399kB 8.6MB/s eta 0:00:01\r\u001B[K     |█████████████████████████████▏  | 409kB 8.6MB/s eta 0:00:01\r\u001B[K     |██████████████████████████████  | 419kB 8.6MB/s eta 0:00:01\r\u001B[K     |██████████████████████████████▊ | 430kB 8.6MB/s eta 0:00:01\r\u001B[K     |███████████████████████████████▍| 440kB 8.6MB/s eta 0:00:01\r\u001B[K     |████████████████████████████████| 450kB 8.6MB/s \n",
      "\u001B[?25h"
     ],
     "name": "stdout"
    }
   ]
  },
  {
   "cell_type": "code",
   "metadata": {
    "colab": {
     "base_uri": "https://localhost:8080/"
    },
    "id": "BRZU-nOO_8yw",
    "outputId": "76e8c7e9-e5f6-43df-dce3-c288f7b96f80"
   },
   "source": [
    "!git clone https://github.com/SpirinEgor/HSE.reinforcement_learning"
   ],
   "execution_count": 3,
   "outputs": [
    {
     "output_type": "stream",
     "text": [
      "Cloning into 'HSE.reinforcement_learning'...\n",
      "remote: Enumerating objects: 73, done.\u001B[K\n",
      "remote: Counting objects: 100% (73/73), done.\u001B[K\n",
      "remote: Compressing objects: 100% (51/51), done.\u001B[K\n",
      "remote: Total 73 (delta 31), reused 52 (delta 17), pack-reused 0\u001B[K\n",
      "Unpacking objects: 100% (73/73), done.\n"
     ],
     "name": "stdout"
    }
   ]
  },
  {
   "cell_type": "code",
   "metadata": {
    "colab": {
     "base_uri": "https://localhost:8080/"
    },
    "id": "SqorudX2BqUf",
    "outputId": "26a534d6-5cd8-4e05-ee9e-499a92b67cbd"
   },
   "source": [
    "%cd HSE.reinforcement_learning/hw03_walker2d"
   ],
   "execution_count": 4,
   "outputs": [
    {
     "output_type": "stream",
     "text": [
      "/content/HSE.reinforcement_learning/hw02_lunar_lander\n"
     ],
     "name": "stdout"
    }
   ]
  },
  {
   "cell_type": "code",
   "metadata": {
    "colab": {
     "base_uri": "https://localhost:8080/"
    },
    "id": "YThhm1frAvtB",
    "outputId": "9fca7f24-8760-4cb5-eb78-3af6b86a6210"
   },
   "source": [
    "!git pull"
   ],
   "execution_count": 5,
   "outputs": [
    {
     "output_type": "stream",
     "text": [
      "Already up to date.\n"
     ],
     "name": "stdout"
    }
   ]
  },
  {
   "cell_type": "code",
   "metadata": {
    "collapsed": true,
    "id": "7LKLmu6N_K0Z",
    "pycharm": {
     "name": "#%%\n"
    }
   },
   "source": [],
   "execution_count": 6,
   "outputs": []
  }
 ]
}