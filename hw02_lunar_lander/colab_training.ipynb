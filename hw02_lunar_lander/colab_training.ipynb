{
  "nbformat": 4,
  "nbformat_minor": 0,
  "metadata": {
    "kernelspec": {
      "display_name": "Python 3",
      "language": "python",
      "name": "python3"
    },
    "language_info": {
      "codemirror_mode": {
        "name": "ipython",
        "version": 2
      },
      "file_extension": ".py",
      "mimetype": "text/x-python",
      "name": "python",
      "nbconvert_exporter": "python",
      "pygments_lexer": "ipython2",
      "version": "2.7.6"
    },
    "colab": {
      "name": "colab_training.ipynb",
      "provenance": []
    },
    "accelerator": "GPU"
  },
  "cells": [
    {
      "cell_type": "code",
      "metadata": {
        "colab": {
          "base_uri": "https://localhost:8080/"
        },
        "id": "VYJwoY-z_vf-",
        "outputId": "66e472bb-399d-4c73-a720-6e90560c3323"
      },
      "source": [
        "!nvidia-smi"
      ],
      "execution_count": 1,
      "outputs": [
        {
          "output_type": "stream",
          "text": [
            "Mon Feb 22 17:41:27 2021       \n",
            "+-----------------------------------------------------------------------------+\n",
            "| NVIDIA-SMI 460.39       Driver Version: 460.32.03    CUDA Version: 11.2     |\n",
            "|-------------------------------+----------------------+----------------------+\n",
            "| GPU  Name        Persistence-M| Bus-Id        Disp.A | Volatile Uncorr. ECC |\n",
            "| Fan  Temp  Perf  Pwr:Usage/Cap|         Memory-Usage | GPU-Util  Compute M. |\n",
            "|                               |                      |               MIG M. |\n",
            "|===============================+======================+======================|\n",
            "|   0  Tesla P100-PCIE...  Off  | 00000000:00:04.0 Off |                    0 |\n",
            "| N/A   35C    P0    27W / 250W |      0MiB / 16280MiB |      0%      Default |\n",
            "|                               |                      |                  N/A |\n",
            "+-------------------------------+----------------------+----------------------+\n",
            "                                                                               \n",
            "+-----------------------------------------------------------------------------+\n",
            "| Processes:                                                                  |\n",
            "|  GPU   GI   CI        PID   Type   Process name                  GPU Memory |\n",
            "|        ID   ID                                                   Usage      |\n",
            "|=============================================================================|\n",
            "|  No running processes found                                                 |\n",
            "+-----------------------------------------------------------------------------+\n"
          ],
          "name": "stdout"
        }
      ]
    },
    {
      "cell_type": "code",
      "metadata": {
        "colab": {
          "base_uri": "https://localhost:8080/"
        },
        "id": "ijSrfLaZBfVL",
        "outputId": "7c40bd05-2313-4fcf-c71d-2eac3a41c9dc"
      },
      "source": [
        "!pip install -q gym[box2d]"
      ],
      "execution_count": 2,
      "outputs": [
        {
          "output_type": "stream",
          "text": [
            "\u001b[?25l\r\u001b[K     |▊                               | 10kB 27.0MB/s eta 0:00:01\r\u001b[K     |█▌                              | 20kB 15.9MB/s eta 0:00:01\r\u001b[K     |██▏                             | 30kB 13.7MB/s eta 0:00:01\r\u001b[K     |███                             | 40kB 12.8MB/s eta 0:00:01\r\u001b[K     |███▋                            | 51kB 8.9MB/s eta 0:00:01\r\u001b[K     |████▍                           | 61kB 8.1MB/s eta 0:00:01\r\u001b[K     |█████▏                          | 71kB 9.2MB/s eta 0:00:01\r\u001b[K     |█████▉                          | 81kB 10.2MB/s eta 0:00:01\r\u001b[K     |██████▋                         | 92kB 9.7MB/s eta 0:00:01\r\u001b[K     |███████▎                        | 102kB 8.6MB/s eta 0:00:01\r\u001b[K     |████████                        | 112kB 8.6MB/s eta 0:00:01\r\u001b[K     |████████▊                       | 122kB 8.6MB/s eta 0:00:01\r\u001b[K     |█████████▌                      | 133kB 8.6MB/s eta 0:00:01\r\u001b[K     |██████████▎                     | 143kB 8.6MB/s eta 0:00:01\r\u001b[K     |███████████                     | 153kB 8.6MB/s eta 0:00:01\r\u001b[K     |███████████▊                    | 163kB 8.6MB/s eta 0:00:01\r\u001b[K     |████████████▍                   | 174kB 8.6MB/s eta 0:00:01\r\u001b[K     |█████████████▏                  | 184kB 8.6MB/s eta 0:00:01\r\u001b[K     |█████████████▉                  | 194kB 8.6MB/s eta 0:00:01\r\u001b[K     |██████████████▋                 | 204kB 8.6MB/s eta 0:00:01\r\u001b[K     |███████████████▍                | 215kB 8.6MB/s eta 0:00:01\r\u001b[K     |████████████████                | 225kB 8.6MB/s eta 0:00:01\r\u001b[K     |████████████████▉               | 235kB 8.6MB/s eta 0:00:01\r\u001b[K     |█████████████████▌              | 245kB 8.6MB/s eta 0:00:01\r\u001b[K     |██████████████████▎             | 256kB 8.6MB/s eta 0:00:01\r\u001b[K     |███████████████████             | 266kB 8.6MB/s eta 0:00:01\r\u001b[K     |███████████████████▊            | 276kB 8.6MB/s eta 0:00:01\r\u001b[K     |████████████████████▌           | 286kB 8.6MB/s eta 0:00:01\r\u001b[K     |█████████████████████▏          | 296kB 8.6MB/s eta 0:00:01\r\u001b[K     |██████████████████████          | 307kB 8.6MB/s eta 0:00:01\r\u001b[K     |██████████████████████▋         | 317kB 8.6MB/s eta 0:00:01\r\u001b[K     |███████████████████████▍        | 327kB 8.6MB/s eta 0:00:01\r\u001b[K     |████████████████████████        | 337kB 8.6MB/s eta 0:00:01\r\u001b[K     |████████████████████████▉       | 348kB 8.6MB/s eta 0:00:01\r\u001b[K     |█████████████████████████▋      | 358kB 8.6MB/s eta 0:00:01\r\u001b[K     |██████████████████████████▎     | 368kB 8.6MB/s eta 0:00:01\r\u001b[K     |███████████████████████████     | 378kB 8.6MB/s eta 0:00:01\r\u001b[K     |███████████████████████████▊    | 389kB 8.6MB/s eta 0:00:01\r\u001b[K     |████████████████████████████▌   | 399kB 8.6MB/s eta 0:00:01\r\u001b[K     |█████████████████████████████▏  | 409kB 8.6MB/s eta 0:00:01\r\u001b[K     |██████████████████████████████  | 419kB 8.6MB/s eta 0:00:01\r\u001b[K     |██████████████████████████████▊ | 430kB 8.6MB/s eta 0:00:01\r\u001b[K     |███████████████████████████████▍| 440kB 8.6MB/s eta 0:00:01\r\u001b[K     |████████████████████████████████| 450kB 8.6MB/s \n",
            "\u001b[?25h"
          ],
          "name": "stdout"
        }
      ]
    },
    {
      "cell_type": "code",
      "metadata": {
        "colab": {
          "base_uri": "https://localhost:8080/"
        },
        "id": "BRZU-nOO_8yw",
        "outputId": "76e8c7e9-e5f6-43df-dce3-c288f7b96f80"
      },
      "source": [
        "!git clone https://github.com/SpirinEgor/HSE.reinforcement_learning"
      ],
      "execution_count": 3,
      "outputs": [
        {
          "output_type": "stream",
          "text": [
            "Cloning into 'HSE.reinforcement_learning'...\n",
            "remote: Enumerating objects: 73, done.\u001b[K\n",
            "remote: Counting objects: 100% (73/73), done.\u001b[K\n",
            "remote: Compressing objects: 100% (51/51), done.\u001b[K\n",
            "remote: Total 73 (delta 31), reused 52 (delta 17), pack-reused 0\u001b[K\n",
            "Unpacking objects: 100% (73/73), done.\n"
          ],
          "name": "stdout"
        }
      ]
    },
    {
      "cell_type": "code",
      "metadata": {
        "colab": {
          "base_uri": "https://localhost:8080/"
        },
        "id": "SqorudX2BqUf",
        "outputId": "26a534d6-5cd8-4e05-ee9e-499a92b67cbd"
      },
      "source": [
        "%cd HSE.reinforcement_learning/hw02_lunar_lander"
      ],
      "execution_count": 4,
      "outputs": [
        {
          "output_type": "stream",
          "text": [
            "/content/HSE.reinforcement_learning/hw02_lunar_lander\n"
          ],
          "name": "stdout"
        }
      ]
    },
    {
      "cell_type": "code",
      "metadata": {
        "colab": {
          "base_uri": "https://localhost:8080/"
        },
        "id": "YThhm1frAvtB",
        "outputId": "9fca7f24-8760-4cb5-eb78-3af6b86a6210"
      },
      "source": [
        "!git pull"
      ],
      "execution_count": 5,
      "outputs": [
        {
          "output_type": "stream",
          "text": [
            "Already up to date.\n"
          ],
          "name": "stdout"
        }
      ]
    },
    {
      "cell_type": "code",
      "metadata": {
        "collapsed": true,
        "id": "7LKLmu6N_K0Z"
      },
      "source": [
        "import torch\n",
        "\n",
        "import train"
      ],
      "execution_count": 6,
      "outputs": []
    },
    {
      "cell_type": "code",
      "metadata": {
        "id": "dRa5_OaP_3Qp"
      },
      "source": [
        "train.INITIAL_STEPS = 8192\n",
        "train.BATCH_SIZE = 512\n",
        "train.LEARNING_RATE = 1e-4\n",
        "train.HIDDEN_DIM = 1024\n",
        "train.N_LAYERS = 5"
      ],
      "execution_count": 7,
      "outputs": []
    },
    {
      "cell_type": "code",
      "metadata": {
        "id": "XRMWecnaBKAX"
      },
      "source": [
        "device = torch.device(\"cuda\")"
      ],
      "execution_count": 8,
      "outputs": []
    },
    {
      "cell_type": "code",
      "metadata": {
        "colab": {
          "base_uri": "https://localhost:8080/"
        },
        "id": "BfNDacOXBHxO",
        "outputId": "62814e01-317c-47f1-fc96-3e61dd623bab"
      },
      "source": [
        "train.main(device)"
      ],
      "execution_count": 9,
      "outputs": [
        {
          "output_type": "stream",
          "text": [
            "Buffer size: 8192\n",
            "Batch size: 512\n",
            "Learning rate: 0.0001\n",
            "Hidden dim: 1024\n",
            "Number of layers: 5\n",
            "Transitions: 500000\n",
            "Step: 5000, Reward mean: -69.99507435204069, Reward std: 218.03226774496503\n",
            "Step: 10000, Reward mean: -204.66107684410014, Reward std: 162.317496249521\n",
            "Step: 15000, Reward mean: -108.20264016441486, Reward std: 105.75214757764192\n",
            "Step: 20000, Reward mean: -188.7851471476844, Reward std: 85.6057370429651\n",
            "Step: 25000, Reward mean: -99.28430648373589, Reward std: 46.77132869502191\n",
            "Step: 30000, Reward mean: -44.488606074973816, Reward std: 29.57861349774308\n",
            "Step: 35000, Reward mean: -162.0172357073465, Reward std: 37.22730314908085\n",
            "Step: 40000, Reward mean: -189.27868837181612, Reward std: 35.88401419533199\n",
            "Step: 45000, Reward mean: -249.19966083466443, Reward std: 87.47445672984836\n",
            "Step: 50000, Reward mean: -185.0663263236912, Reward std: 74.45756669129378\n",
            "Step: 55000, Reward mean: -156.2709891719741, Reward std: 22.192932585031667\n",
            "Step: 60000, Reward mean: -83.65985140997003, Reward std: 33.56106751672382\n",
            "Step: 65000, Reward mean: -25.63583525425246, Reward std: 35.27850550272175\n",
            "Step: 70000, Reward mean: -602.325936825521, Reward std: 474.5932142632527\n",
            "Step: 75000, Reward mean: -231.45964788591078, Reward std: 449.4806264630222\n",
            "Step: 80000, Reward mean: -293.0338191482914, Reward std: 363.57284124289714\n",
            "Step: 85000, Reward mean: -23.688641818283838, Reward std: 101.482203875382\n",
            "Step: 90000, Reward mean: -12.075959429780085, Reward std: 168.14308203728334\n",
            "Step: 95000, Reward mean: 55.07320137406525, Reward std: 135.5491269741422\n",
            "Step: 100000, Reward mean: 103.64981169847128, Reward std: 129.11707743492477\n",
            "Step: 105000, Reward mean: 61.29468233906947, Reward std: 124.83698101580299\n",
            "Step: 110000, Reward mean: 65.83708756414457, Reward std: 128.88772542054267\n",
            "Step: 115000, Reward mean: 54.4828899770195, Reward std: 96.45435844876211\n",
            "Step: 120000, Reward mean: 70.24361502498081, Reward std: 126.28994047275317\n",
            "Step: 125000, Reward mean: 172.34787235909994, Reward std: 35.33275260290415\n",
            "Step: 130000, Reward mean: 137.28035589882825, Reward std: 50.934140938658665\n",
            "Step: 135000, Reward mean: 171.40257579144549, Reward std: 49.73547570699566\n",
            "Step: 140000, Reward mean: 152.41099326448784, Reward std: 96.70300590343106\n",
            "Step: 145000, Reward mean: 41.00280576570951, Reward std: 114.40837159572837\n",
            "Step: 150000, Reward mean: 84.01915640501674, Reward std: 118.96337528253822\n",
            "Step: 155000, Reward mean: 54.91555627725484, Reward std: 101.5913190036321\n",
            "Step: 160000, Reward mean: 78.11641078998154, Reward std: 97.88260546595389\n",
            "Step: 165000, Reward mean: -53.601758140673425, Reward std: 197.2856971374169\n",
            "Step: 170000, Reward mean: 130.0625726382011, Reward std: 132.3522031231092\n",
            "Step: 175000, Reward mean: 142.89902590619423, Reward std: 199.2145640777524\n",
            "Step: 180000, Reward mean: 94.68338785710843, Reward std: 153.83915467716668\n",
            "Step: 185000, Reward mean: 224.0029237979516, Reward std: 12.698739293487662\n",
            "Step: 190000, Reward mean: 124.95422327088788, Reward std: 146.76547877096718\n",
            "Step: 195000, Reward mean: 189.4845855551695, Reward std: 62.29588027484378\n",
            "Step: 200000, Reward mean: 181.35142775057184, Reward std: 108.09853600232354\n",
            "Step: 205000, Reward mean: 152.88095294277704, Reward std: 97.704592247071\n",
            "Step: 210000, Reward mean: 115.34922857523539, Reward std: 103.52155986324779\n",
            "Step: 215000, Reward mean: 180.32139571447775, Reward std: 46.63506726919107\n",
            "Step: 220000, Reward mean: 244.43561223239823, Reward std: 61.91752755064914\n",
            "Step: 225000, Reward mean: 156.97652902978115, Reward std: 97.36674038422214\n",
            "Step: 230000, Reward mean: 157.19880214054112, Reward std: 97.94794336838436\n",
            "Step: 235000, Reward mean: 79.20019972439832, Reward std: 136.56685318336582\n",
            "Step: 240000, Reward mean: 86.40550880872414, Reward std: 128.2311668550277\n",
            "Step: 245000, Reward mean: 98.41351482070627, Reward std: 163.80005522192045\n",
            "Step: 250000, Reward mean: 177.16849599108954, Reward std: 99.85555847191922\n",
            "Step: 255000, Reward mean: 65.03660293107845, Reward std: 120.15830489225267\n",
            "Step: 260000, Reward mean: 165.25162562876054, Reward std: 110.76245816081584\n",
            "Step: 265000, Reward mean: 159.98391456509006, Reward std: 109.45164198765606\n",
            "Step: 270000, Reward mean: 124.69566330641905, Reward std: 129.48385584707205\n",
            "Step: 275000, Reward mean: 43.11926491530359, Reward std: 72.17859930970562\n",
            "Step: 280000, Reward mean: 146.9032455247037, Reward std: 85.38700647817541\n",
            "Step: 285000, Reward mean: 128.66749986557977, Reward std: 122.55132773356532\n",
            "Step: 290000, Reward mean: 8.75582917923706, Reward std: 199.09504166609773\n",
            "Step: 295000, Reward mean: 112.3489007109567, Reward std: 124.05444201351914\n",
            "Step: 300000, Reward mean: 159.7379088797723, Reward std: 56.21520935547996\n",
            "Step: 305000, Reward mean: 206.25036192074793, Reward std: 95.21810198699704\n",
            "Step: 310000, Reward mean: 105.55632094522264, Reward std: 216.49604336767635\n",
            "Step: 315000, Reward mean: 142.4994664618185, Reward std: 170.37657240265122\n",
            "Step: 320000, Reward mean: 258.556379206948, Reward std: 14.26647268401648\n",
            "Step: 325000, Reward mean: 219.45672696802222, Reward std: 58.95230118653832\n",
            "Step: 330000, Reward mean: 32.41903556031503, Reward std: 116.06617011852023\n",
            "Step: 335000, Reward mean: 167.27543757784747, Reward std: 136.3766765719699\n",
            "Step: 340000, Reward mean: 172.6787826093975, Reward std: 122.63390711445656\n",
            "Step: 345000, Reward mean: 127.80945646593314, Reward std: 83.62522996214452\n",
            "Step: 350000, Reward mean: 126.66197680517969, Reward std: 208.42926366108372\n",
            "Step: 355000, Reward mean: 288.8585212726241, Reward std: 21.524616096963587\n",
            "Step: 360000, Reward mean: 51.89251078070764, Reward std: 313.8491447954805\n",
            "Step: 365000, Reward mean: 220.92043995931726, Reward std: 85.71514115094101\n",
            "Step: 370000, Reward mean: 135.06767274729424, Reward std: 115.7078988879205\n",
            "Step: 375000, Reward mean: 148.02051804069083, Reward std: 106.48617854862277\n",
            "Step: 380000, Reward mean: 279.34263159099066, Reward std: 23.8474979140123\n",
            "Step: 385000, Reward mean: 104.32583553035855, Reward std: 134.33718482976693\n",
            "Step: 390000, Reward mean: 224.16749215072727, Reward std: 110.88298391088195\n",
            "Step: 395000, Reward mean: 68.740163140334, Reward std: 280.77134843283847\n",
            "Step: 400000, Reward mean: 139.33380067924324, Reward std: 122.34453915496184\n",
            "Step: 405000, Reward mean: 245.33450611012967, Reward std: 66.3496431648319\n",
            "Step: 410000, Reward mean: 279.63916014907863, Reward std: 28.302914521676456\n",
            "Step: 415000, Reward mean: 247.26491446563833, Reward std: 27.256991647672454\n",
            "Step: 420000, Reward mean: 83.79727492233481, Reward std: 157.9843775191385\n",
            "Step: 425000, Reward mean: 240.60135414900074, Reward std: 37.52890103460367\n",
            "Step: 430000, Reward mean: 51.16016290839865, Reward std: 108.03859819853892\n",
            "Step: 435000, Reward mean: 142.2382728970771, Reward std: 147.98696776572996\n",
            "Step: 440000, Reward mean: 125.56567559998518, Reward std: 188.08854651188335\n",
            "Step: 445000, Reward mean: 184.41261991959482, Reward std: 80.18114256988652\n",
            "Step: 450000, Reward mean: -8.150283063455086, Reward std: 25.469362800674016\n",
            "Step: 455000, Reward mean: 103.34968756943306, Reward std: 125.71874504951909\n",
            "Step: 460000, Reward mean: 131.92305720699542, Reward std: 105.83050855512066\n",
            "Step: 465000, Reward mean: 180.48251529719715, Reward std: 109.86704959502488\n",
            "Step: 470000, Reward mean: 138.91564196474445, Reward std: 125.6111534180856\n",
            "Step: 475000, Reward mean: 152.72684231188688, Reward std: 167.31140924100933\n",
            "Step: 480000, Reward mean: 188.00216358410609, Reward std: 108.39525815748664\n",
            "Step: 485000, Reward mean: 251.30123670850782, Reward std: 71.4781333731638\n",
            "Step: 490000, Reward mean: -1.415308548865869, Reward std: 174.14219211848823\n",
            "Step: 495000, Reward mean: 10.358678101646495, Reward std: 149.49876209426188\n",
            "Step: 500000, Reward mean: 269.726284667869, Reward std: 22.139409280182015\n"
          ],
          "name": "stdout"
        }
      ]
    }
  ]
}